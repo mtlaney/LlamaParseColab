{
  "nbformat": 4,
  "nbformat_minor": 0,
  "metadata": {
    "colab": {
      "provenance": [],
      "include_colab_link": true
    },
    "kernelspec": {
      "name": "python3",
      "display_name": "Python 3"
    },
    "language_info": {
      "name": "python"
    }
  },
  "cells": [
    {
      "cell_type": "markdown",
      "metadata": {
        "id": "view-in-github",
        "colab_type": "text"
      },
      "source": [
        "<a href=\"https://colab.research.google.com/github/mtlaney/LlamaParseColab/blob/main/ML_LlamaParse.ipynb\" target=\"_parent\"><img src=\"https://colab.research.google.com/assets/colab-badge.svg\" alt=\"Open In Colab\"/></a>"
      ]
    },
    {
      "cell_type": "code",
      "source": [
        "%pip install llama-parse\n"
      ],
      "metadata": {
        "id": "pHovlqd3zWV1",
        "colab": {
          "base_uri": "https://localhost:8080/"
        },
        "outputId": "1589f064-fa94-4177-f5df-e588993c16c1",
        "collapsed": true
      },
      "execution_count": 1,
      "outputs": [
        {
          "output_type": "stream",
          "name": "stdout",
          "text": [
            "Collecting llama-parse\n",
            "  Downloading llama_parse-0.6.2-py3-none-any.whl.metadata (6.9 kB)\n",
            "Collecting llama-cloud-services>=0.6.2 (from llama-parse)\n",
            "  Downloading llama_cloud_services-0.6.3-py3-none-any.whl.metadata (2.9 kB)\n",
            "Requirement already satisfied: click<9.0.0,>=8.1.7 in /usr/local/lib/python3.11/dist-packages (from llama-cloud-services>=0.6.2->llama-parse) (8.1.8)\n",
            "Collecting llama-cloud<0.2.0,>=0.1.11 (from llama-cloud-services>=0.6.2->llama-parse)\n",
            "  Downloading llama_cloud-0.1.13-py3-none-any.whl.metadata (800 bytes)\n",
            "Collecting llama-index-core>=0.11.0 (from llama-cloud-services>=0.6.2->llama-parse)\n",
            "  Downloading llama_index_core-0.12.22-py3-none-any.whl.metadata (2.5 kB)\n",
            "Requirement already satisfied: pydantic!=2.10 in /usr/local/lib/python3.11/dist-packages (from llama-cloud-services>=0.6.2->llama-parse) (2.10.6)\n",
            "Collecting python-dotenv<2.0.0,>=1.0.1 (from llama-cloud-services>=0.6.2->llama-parse)\n",
            "  Downloading python_dotenv-1.0.1-py3-none-any.whl.metadata (23 kB)\n",
            "Requirement already satisfied: certifi>=2024.7.4 in /usr/local/lib/python3.11/dist-packages (from llama-cloud<0.2.0,>=0.1.11->llama-cloud-services>=0.6.2->llama-parse) (2025.1.31)\n",
            "Requirement already satisfied: httpx>=0.20.0 in /usr/local/lib/python3.11/dist-packages (from llama-cloud<0.2.0,>=0.1.11->llama-cloud-services>=0.6.2->llama-parse) (0.28.1)\n",
            "Requirement already satisfied: PyYAML>=6.0.1 in /usr/local/lib/python3.11/dist-packages (from llama-index-core>=0.11.0->llama-cloud-services>=0.6.2->llama-parse) (6.0.2)\n",
            "Requirement already satisfied: SQLAlchemy>=1.4.49 in /usr/local/lib/python3.11/dist-packages (from SQLAlchemy[asyncio]>=1.4.49->llama-index-core>=0.11.0->llama-cloud-services>=0.6.2->llama-parse) (2.0.38)\n",
            "Requirement already satisfied: aiohttp<4.0.0,>=3.8.6 in /usr/local/lib/python3.11/dist-packages (from llama-index-core>=0.11.0->llama-cloud-services>=0.6.2->llama-parse) (3.11.13)\n",
            "Collecting dataclasses-json (from llama-index-core>=0.11.0->llama-cloud-services>=0.6.2->llama-parse)\n",
            "  Downloading dataclasses_json-0.6.7-py3-none-any.whl.metadata (25 kB)\n",
            "Requirement already satisfied: deprecated>=1.2.9.3 in /usr/local/lib/python3.11/dist-packages (from llama-index-core>=0.11.0->llama-cloud-services>=0.6.2->llama-parse) (1.2.18)\n",
            "Collecting dirtyjson<2.0.0,>=1.0.8 (from llama-index-core>=0.11.0->llama-cloud-services>=0.6.2->llama-parse)\n",
            "  Downloading dirtyjson-1.0.8-py3-none-any.whl.metadata (11 kB)\n",
            "Collecting filetype<2.0.0,>=1.2.0 (from llama-index-core>=0.11.0->llama-cloud-services>=0.6.2->llama-parse)\n",
            "  Downloading filetype-1.2.0-py2.py3-none-any.whl.metadata (6.5 kB)\n",
            "Requirement already satisfied: fsspec>=2023.5.0 in /usr/local/lib/python3.11/dist-packages (from llama-index-core>=0.11.0->llama-cloud-services>=0.6.2->llama-parse) (2024.10.0)\n",
            "Requirement already satisfied: nest-asyncio<2.0.0,>=1.5.8 in /usr/local/lib/python3.11/dist-packages (from llama-index-core>=0.11.0->llama-cloud-services>=0.6.2->llama-parse) (1.6.0)\n",
            "Requirement already satisfied: networkx>=3.0 in /usr/local/lib/python3.11/dist-packages (from llama-index-core>=0.11.0->llama-cloud-services>=0.6.2->llama-parse) (3.4.2)\n",
            "Requirement already satisfied: nltk>3.8.1 in /usr/local/lib/python3.11/dist-packages (from llama-index-core>=0.11.0->llama-cloud-services>=0.6.2->llama-parse) (3.9.1)\n",
            "Requirement already satisfied: numpy in /usr/local/lib/python3.11/dist-packages (from llama-index-core>=0.11.0->llama-cloud-services>=0.6.2->llama-parse) (1.26.4)\n",
            "Requirement already satisfied: pillow>=9.0.0 in /usr/local/lib/python3.11/dist-packages (from llama-index-core>=0.11.0->llama-cloud-services>=0.6.2->llama-parse) (11.1.0)\n",
            "Requirement already satisfied: requests>=2.31.0 in /usr/local/lib/python3.11/dist-packages (from llama-index-core>=0.11.0->llama-cloud-services>=0.6.2->llama-parse) (2.32.3)\n",
            "Requirement already satisfied: tenacity!=8.4.0,<10.0.0,>=8.2.0 in /usr/local/lib/python3.11/dist-packages (from llama-index-core>=0.11.0->llama-cloud-services>=0.6.2->llama-parse) (9.0.0)\n",
            "Collecting tiktoken>=0.3.3 (from llama-index-core>=0.11.0->llama-cloud-services>=0.6.2->llama-parse)\n",
            "  Downloading tiktoken-0.9.0-cp311-cp311-manylinux_2_17_x86_64.manylinux2014_x86_64.whl.metadata (6.7 kB)\n",
            "Requirement already satisfied: tqdm<5.0.0,>=4.66.1 in /usr/local/lib/python3.11/dist-packages (from llama-index-core>=0.11.0->llama-cloud-services>=0.6.2->llama-parse) (4.67.1)\n",
            "Requirement already satisfied: typing-extensions>=4.5.0 in /usr/local/lib/python3.11/dist-packages (from llama-index-core>=0.11.0->llama-cloud-services>=0.6.2->llama-parse) (4.12.2)\n",
            "Collecting typing-inspect>=0.8.0 (from llama-index-core>=0.11.0->llama-cloud-services>=0.6.2->llama-parse)\n",
            "  Downloading typing_inspect-0.9.0-py3-none-any.whl.metadata (1.5 kB)\n",
            "Requirement already satisfied: wrapt in /usr/local/lib/python3.11/dist-packages (from llama-index-core>=0.11.0->llama-cloud-services>=0.6.2->llama-parse) (1.17.2)\n",
            "Requirement already satisfied: annotated-types>=0.6.0 in /usr/local/lib/python3.11/dist-packages (from pydantic!=2.10->llama-cloud-services>=0.6.2->llama-parse) (0.7.0)\n",
            "Requirement already satisfied: pydantic-core==2.27.2 in /usr/local/lib/python3.11/dist-packages (from pydantic!=2.10->llama-cloud-services>=0.6.2->llama-parse) (2.27.2)\n",
            "Requirement already satisfied: aiohappyeyeballs>=2.3.0 in /usr/local/lib/python3.11/dist-packages (from aiohttp<4.0.0,>=3.8.6->llama-index-core>=0.11.0->llama-cloud-services>=0.6.2->llama-parse) (2.4.6)\n",
            "Requirement already satisfied: aiosignal>=1.1.2 in /usr/local/lib/python3.11/dist-packages (from aiohttp<4.0.0,>=3.8.6->llama-index-core>=0.11.0->llama-cloud-services>=0.6.2->llama-parse) (1.3.2)\n",
            "Requirement already satisfied: attrs>=17.3.0 in /usr/local/lib/python3.11/dist-packages (from aiohttp<4.0.0,>=3.8.6->llama-index-core>=0.11.0->llama-cloud-services>=0.6.2->llama-parse) (25.1.0)\n",
            "Requirement already satisfied: frozenlist>=1.1.1 in /usr/local/lib/python3.11/dist-packages (from aiohttp<4.0.0,>=3.8.6->llama-index-core>=0.11.0->llama-cloud-services>=0.6.2->llama-parse) (1.5.0)\n",
            "Requirement already satisfied: multidict<7.0,>=4.5 in /usr/local/lib/python3.11/dist-packages (from aiohttp<4.0.0,>=3.8.6->llama-index-core>=0.11.0->llama-cloud-services>=0.6.2->llama-parse) (6.1.0)\n",
            "Requirement already satisfied: propcache>=0.2.0 in /usr/local/lib/python3.11/dist-packages (from aiohttp<4.0.0,>=3.8.6->llama-index-core>=0.11.0->llama-cloud-services>=0.6.2->llama-parse) (0.3.0)\n",
            "Requirement already satisfied: yarl<2.0,>=1.17.0 in /usr/local/lib/python3.11/dist-packages (from aiohttp<4.0.0,>=3.8.6->llama-index-core>=0.11.0->llama-cloud-services>=0.6.2->llama-parse) (1.18.3)\n",
            "Requirement already satisfied: anyio in /usr/local/lib/python3.11/dist-packages (from httpx>=0.20.0->llama-cloud<0.2.0,>=0.1.11->llama-cloud-services>=0.6.2->llama-parse) (3.7.1)\n",
            "Requirement already satisfied: httpcore==1.* in /usr/local/lib/python3.11/dist-packages (from httpx>=0.20.0->llama-cloud<0.2.0,>=0.1.11->llama-cloud-services>=0.6.2->llama-parse) (1.0.7)\n",
            "Requirement already satisfied: idna in /usr/local/lib/python3.11/dist-packages (from httpx>=0.20.0->llama-cloud<0.2.0,>=0.1.11->llama-cloud-services>=0.6.2->llama-parse) (3.10)\n",
            "Requirement already satisfied: h11<0.15,>=0.13 in /usr/local/lib/python3.11/dist-packages (from httpcore==1.*->httpx>=0.20.0->llama-cloud<0.2.0,>=0.1.11->llama-cloud-services>=0.6.2->llama-parse) (0.14.0)\n",
            "Requirement already satisfied: joblib in /usr/local/lib/python3.11/dist-packages (from nltk>3.8.1->llama-index-core>=0.11.0->llama-cloud-services>=0.6.2->llama-parse) (1.4.2)\n",
            "Requirement already satisfied: regex>=2021.8.3 in /usr/local/lib/python3.11/dist-packages (from nltk>3.8.1->llama-index-core>=0.11.0->llama-cloud-services>=0.6.2->llama-parse) (2024.11.6)\n",
            "Requirement already satisfied: charset-normalizer<4,>=2 in /usr/local/lib/python3.11/dist-packages (from requests>=2.31.0->llama-index-core>=0.11.0->llama-cloud-services>=0.6.2->llama-parse) (3.4.1)\n",
            "Requirement already satisfied: urllib3<3,>=1.21.1 in /usr/local/lib/python3.11/dist-packages (from requests>=2.31.0->llama-index-core>=0.11.0->llama-cloud-services>=0.6.2->llama-parse) (2.3.0)\n",
            "Requirement already satisfied: greenlet!=0.4.17 in /usr/local/lib/python3.11/dist-packages (from SQLAlchemy>=1.4.49->SQLAlchemy[asyncio]>=1.4.49->llama-index-core>=0.11.0->llama-cloud-services>=0.6.2->llama-parse) (3.1.1)\n",
            "Collecting mypy-extensions>=0.3.0 (from typing-inspect>=0.8.0->llama-index-core>=0.11.0->llama-cloud-services>=0.6.2->llama-parse)\n",
            "  Downloading mypy_extensions-1.0.0-py3-none-any.whl.metadata (1.1 kB)\n",
            "Collecting marshmallow<4.0.0,>=3.18.0 (from dataclasses-json->llama-index-core>=0.11.0->llama-cloud-services>=0.6.2->llama-parse)\n",
            "  Downloading marshmallow-3.26.1-py3-none-any.whl.metadata (7.3 kB)\n",
            "Requirement already satisfied: packaging>=17.0 in /usr/local/lib/python3.11/dist-packages (from marshmallow<4.0.0,>=3.18.0->dataclasses-json->llama-index-core>=0.11.0->llama-cloud-services>=0.6.2->llama-parse) (24.2)\n",
            "Requirement already satisfied: sniffio>=1.1 in /usr/local/lib/python3.11/dist-packages (from anyio->httpx>=0.20.0->llama-cloud<0.2.0,>=0.1.11->llama-cloud-services>=0.6.2->llama-parse) (1.3.1)\n",
            "Downloading llama_parse-0.6.2-py3-none-any.whl (4.8 kB)\n",
            "Downloading llama_cloud_services-0.6.3-py3-none-any.whl (28 kB)\n",
            "Downloading llama_cloud-0.1.13-py3-none-any.whl (253 kB)\n",
            "\u001b[2K   \u001b[90m━━━━━━━━━━━━━━━━━━━━━━━━━━━━━━━━━━━━━━━━\u001b[0m \u001b[32m253.4/253.4 kB\u001b[0m \u001b[31m7.5 MB/s\u001b[0m eta \u001b[36m0:00:00\u001b[0m\n",
            "\u001b[?25hDownloading llama_index_core-0.12.22-py3-none-any.whl (1.6 MB)\n",
            "\u001b[2K   \u001b[90m━━━━━━━━━━━━━━━━━━━━━━━━━━━━━━━━━━━━━━━━\u001b[0m \u001b[32m1.6/1.6 MB\u001b[0m \u001b[31m33.5 MB/s\u001b[0m eta \u001b[36m0:00:00\u001b[0m\n",
            "\u001b[?25hDownloading python_dotenv-1.0.1-py3-none-any.whl (19 kB)\n",
            "Downloading dirtyjson-1.0.8-py3-none-any.whl (25 kB)\n",
            "Downloading filetype-1.2.0-py2.py3-none-any.whl (19 kB)\n",
            "Downloading tiktoken-0.9.0-cp311-cp311-manylinux_2_17_x86_64.manylinux2014_x86_64.whl (1.2 MB)\n",
            "\u001b[2K   \u001b[90m━━━━━━━━━━━━━━━━━━━━━━━━━━━━━━━━━━━━━━━━\u001b[0m \u001b[32m1.2/1.2 MB\u001b[0m \u001b[31m13.7 MB/s\u001b[0m eta \u001b[36m0:00:00\u001b[0m\n",
            "\u001b[?25hDownloading typing_inspect-0.9.0-py3-none-any.whl (8.8 kB)\n",
            "Downloading dataclasses_json-0.6.7-py3-none-any.whl (28 kB)\n",
            "Downloading marshmallow-3.26.1-py3-none-any.whl (50 kB)\n",
            "\u001b[2K   \u001b[90m━━━━━━━━━━━━━━━━━━━━━━━━━━━━━━━━━━━━━━━━\u001b[0m \u001b[32m50.9/50.9 kB\u001b[0m \u001b[31m2.4 MB/s\u001b[0m eta \u001b[36m0:00:00\u001b[0m\n",
            "\u001b[?25hDownloading mypy_extensions-1.0.0-py3-none-any.whl (4.7 kB)\n",
            "Installing collected packages: filetype, dirtyjson, python-dotenv, mypy-extensions, marshmallow, typing-inspect, tiktoken, llama-cloud, dataclasses-json, llama-index-core, llama-cloud-services, llama-parse\n",
            "Successfully installed dataclasses-json-0.6.7 dirtyjson-1.0.8 filetype-1.2.0 llama-cloud-0.1.13 llama-cloud-services-0.6.3 llama-index-core-0.12.22 llama-parse-0.6.2 marshmallow-3.26.1 mypy-extensions-1.0.0 python-dotenv-1.0.1 tiktoken-0.9.0 typing-inspect-0.9.0\n"
          ]
        }
      ]
    },
    {
      "cell_type": "code",
      "source": [
        "!wget \"https://usfs-public.app.box.com/s/tqoyno1in9tldeb6hq6w5jds0rrud38n\" -O forestplans.pdf\n"
      ],
      "metadata": {
        "colab": {
          "base_uri": "https://localhost:8080/"
        },
        "id": "x3Y2nAcBzWxz",
        "outputId": "48c64303-1bd8-4d1a-b4bb-87b3bb2d6581"
      },
      "execution_count": 23,
      "outputs": [
        {
          "output_type": "stream",
          "name": "stdout",
          "text": [
            "--2025-03-04 17:17:07--  https://usfs-public.app.box.com/s/tqoyno1in9tldeb6hq6w5jds0rrud38n\n",
            "Resolving usfs-public.app.box.com (usfs-public.app.box.com)... 74.112.186.157, 2620:117:bff0:12d::\n",
            "Connecting to usfs-public.app.box.com (usfs-public.app.box.com)|74.112.186.157|:443... connected.\n",
            "HTTP request sent, awaiting response... 200 OK\n",
            "Length: unspecified [text/html]\n",
            "Saving to: ‘forestplans.pdf’\n",
            "\n",
            "forestplans.pdf         [ <=>                ]  21.16K  --.-KB/s    in 0.1s    \n",
            "\n",
            "2025-03-04 17:17:08 (175 KB/s) - ‘forestplans.pdf’ saved [21670]\n",
            "\n"
          ]
        }
      ]
    },
    {
      "cell_type": "code",
      "source": [
        "import nest_asyncio\n",
        "\n",
        "nest_asyncio.apply()"
      ],
      "metadata": {
        "id": "e5uAizOEzcVT"
      },
      "execution_count": 24,
      "outputs": []
    },
    {
      "cell_type": "code",
      "source": [
        "import os\n",
        "\n",
        "os.environ[\"LLAMA_CLOUD_API_KEY\"] = \"apiKey\"\n"
      ],
      "metadata": {
        "id": "FDym7oMPzmwL"
      },
      "execution_count": 25,
      "outputs": []
    },
    {
      "cell_type": "code",
      "source": [
        "from llama_parse import LlamaParse\n",
        "\n",
        "document = LlamaParse(result_type=\"markdown\").load_data(\"/content/forestplans.pdf\")"
      ],
      "metadata": {
        "colab": {
          "base_uri": "https://localhost:8080/"
        },
        "id": "aYIUKOJ_z0eY",
        "outputId": "435fd78f-e2c7-43ec-b907-2ca3113500bd"
      },
      "execution_count": 26,
      "outputs": [
        {
          "output_type": "stream",
          "name": "stdout",
          "text": [
            "Started parsing the file under job_id de40b30e-6193-4d44-a0ba-c3dbbaa4fa12\n"
          ]
        }
      ]
    },
    {
      "cell_type": "code",
      "source": [
        "document"
      ],
      "metadata": {
        "colab": {
          "base_uri": "https://localhost:8080/"
        },
        "id": "przLOnGO0Ygf",
        "outputId": "922525b8-34e6-4717-ac67-ea32eefe0295",
        "collapsed": true
      },
      "execution_count": 29,
      "outputs": [
        {
          "output_type": "execute_result",
          "data": {
            "text/plain": [
              "[Document(id_='37aa2494-9f3c-4ca9-b348-8181e0b109b0', embedding=None, metadata={}, excluded_embed_metadata_keys=[], excluded_llm_metadata_keys=[], relationships={}, metadata_template='{key}: {value}', metadata_separator='\\n', text_resource=MediaResource(embeddings=None, data=None, text='# 2020 State Forest Action Plan Regional Summary Northeast Midwest\\n\\n# Table of Contents\\n\\n- Introduction\\n- Regional Overview\\n- Forest Resources\\n- Management Strategies\\n- Conclusion\\n\\n# 1. Introduction\\n\\nThe 2020 State Forest Action Plan provides a comprehensive overview of the forest resources in the Northeast and Midwest regions of the United States. This document outlines the current state of forests, challenges faced, and strategies for sustainable management.\\n\\n# 2. Regional Overview\\n\\nThe Northeast and Midwest regions are characterized by diverse forest ecosystems, which play a crucial role in environmental health and economic stability.\\n\\n# 3. Forest Resources\\n\\n|Resource Type|Area (Acres)|Percentage of Total Forest|\\n|---|---|---|\\n|Deciduous Forest|15,000,000|45%|\\n|Coniferous Forest|10,000,000|30%|\\n|Mixed Forest|5,000,000|15%|\\n|Other|2,000,000|10%|\\n\\n# 4. Management Strategies\\n\\nEffective management strategies are essential for maintaining the health of forest ecosystems. These include:\\n\\n- Reforestation efforts\\n- Invasive species control\\n- Community engagement and education\\n\\n# 5. Conclusion\\n\\nThe sustainable management of forest resources is vital for the ecological and economic well-being of the Northeast and Midwest regions. Continued efforts and collaboration among stakeholders will ensure the preservation of these valuable resources for future generations.', path=None, url=None, mimetype=None), image_resource=None, audio_resource=None, video_resource=None, text_template='{metadata_str}\\n\\n{content}'),\n",
              " Document(id_='3e36e7d1-be2c-44d8-9bd3-b98a310ffdd7', embedding=None, metadata={}, excluded_embed_metadata_keys=[], excluded_llm_metadata_keys=[], relationships={}, metadata_template='{key}: {value}', metadata_separator='\\n', text_resource=MediaResource(embeddings=None, data=None, text='JavaScript is currently disabled in your browser. You must have JavaScript enabled to take full advantage of Box.\\n\\nwindow.Box = window.Box || {};\\nBox.prefetchedData = {\\n\"/app-api/enduserapp/current-user\": {\\n\"id\": 2,\\n\"name\": null,\\n\"email\": null,\\n\"language\": \"en-US\",\\n\"locale\": \"en-US\",\\n\"timezone\": null,\\n\"countryCode\": \"US\",\\n\"hasAvatar\": false,\\n\"avatarURLs\": {\\n\"small\": \"https://cdn01.boxcdn.net/_assets/img/box/box_user_avatar_small-QaPHWb.png\",\\n\"large\": \"https://cdn01.boxcdn.net/_assets/img/box/box_user_avatar_large-M9h6O2.png\",\\n\"preview\": \"https://cdn01.boxcdn.net/_assets/img/box/box_user_avatar_preview-y_etx-.png\"\\n},\\n\"isAdmin\": false,\\n\"isCoAdmin\": false,\\n\"isGroupAdmin\": false,\\n\"isDeveloper\": false\\n}\\n};', path=None, url=None, mimetype=None), image_resource=None, audio_resource=None, video_resource=None, text_template='{metadata_str}\\n\\n{content}'),\n",
              " Document(id_='3f3af84b-5c8a-4fda-8b2b-11634a9393ba', embedding=None, metadata={}, excluded_embed_metadata_keys=[], excluded_llm_metadata_keys=[], relationships={}, metadata_template='{key}: {value}', metadata_separator='\\n', text_resource=MediaResource(embeddings=None, data=None, text='\":false,\"isInstantLoggedIn\":false,\"isLoggedIn\":false,\"isDemoEnvironmentV2\":false\\n,\"isEnrolledInShieldTrial\":false,\"loginPage\":null,\"maxFileSizeAsString\":\"0\\nB\",\"realtimeSubscriberID\":\"lavpixhz5fzcqylc\",\"storageAmountAsString\":\"0\\nB\",\"storageRemainingAsString\":\"0\\nB\",\"hasUnlimitedStorage\":false,\"tier\":null,\"boxToolsDownloadURL\":\"https:\\\\/\\\\/\\ne3.boxcdn.net\\\\/box-installers\\\\/boxedit\\\\/win\\\\/currentrelease\\\\/\\nBoxToolsInstaller.exe\",\"accountHost\":\"https:\\\\/\\\\/usfs-\\npublic.account.box.com\",\"apiHost\":\"https:\\\\/\\\\/\\napi.box.com\\\\/\",\"amplitudeAPIKey\":\"c6eb3d709c5c30ca80c0381080bcc254\",\"splitIOAPIK\\ney\":\"3sd5ltupa3cq5t3ovm1r2kear6i4kvmeb42a\",\"enterprise\":[],\"theme\":\\n{\"id\":68964,\"isDefaultTheme\":false,\"primaryColor\":\"#2E1E11\",\"logoURLs\":\\n{\"small\":\"https:\\\\/\\\\/usfs-public.app.box.com\\\\/index.php?\\nrm=pic_storage_auth&pic=euks!pac3kv01!\\nKS6xzT80XJRz6t5ueFezeyep8_ANTcrKqMYHR6IChWEeq_Lhkt87kSTGRnpbRQEdrjKerv1NwfTyrHtK\\nrOd1s2jclmY9i5wZCMBkWYtKKZmKYXoS-e85mf396pLExNlUtNkW2xRFRNrrAP4javfWeEs82zLV-\\nlYFc75fa5KPiOjKrIfmzgedaF7od_8hrDUHU82XfZ5d1I8Up4xcihRm4wvhiTcV5roMccHxWHighv-\\nd9dhEkQcgL7smHPeTGa8w-xcqwHTYADAJOQ..\",\"large\":\"https:\\\\/\\\\/usfs-\\npublic.app.box.com\\\\/index.php?rm=pic_storage_auth&pic=euks!pac3kv01!kFRr-\\ncIVRneLi79EZU3Mh3lo4aMTBDQvdq3sF0fqBQS6ARJ_sUkzzOiHaxetGEzQmsZhOHJpvPtX63f1eK941\\npzMPSBZ072VSespIwwbHjvKkj_9mokDguANZzcFOxdDW2ZTctpnFWdXdNoaQPkDJTtx5D0Jdkk9eNhvg\\n22r1_vRsvUeBAtrCttH1-uRoGQoVSdLGGCPrmIsQ-VWryEro_t3sdrfm7ZwXcgzlt3-\\n0UUOzFpMpLGWjYMzkhtpvnPGNU-jBhMCcVFOAA..\",\"preview\":\"https:\\\\/\\\\/usfs-\\npublic.app.box.com\\\\/index.php?rm=pic_storage_auth&pic=euks!pac3kv01!\\naxr5FqWwrlmiwI4FiuNfx83zBNw48-oGisD94uE9-\\ncfEOkyAQoUFYRcM4hJOCFA8LhfDRfWGisF3qAn3IXEVelHnMpQqIJ8sQ7jy2D3lq5cfN2aeTHD_CiHeC\\nK4paWvx8WaLk1fwwc58h_6eXKDHab90KG0txbTeImGtHyxa7dbkRLRX7UyN_10hptbPRkRUUbVBAmmgQ\\nJy8EoFOFx0tf_TFTUrw7VKcOeSN0XlxqRHDZ-\\nkEQwbzm0n_ZMFkpJl4tFCi8a01JTtT3XRO\",\"xsmall\":\"https:\\\\/\\\\/usfs-\\npublic.app.box.com\\\\/index.php?rm=pic_storage_auth&pic=euks!pac3kv01!\\nLLhiCXkvukoh8eryFCdQjUoWaUyXnvDIiajkRELm1XVjYM1AlgkuOn5bkekdZGCbaiwJmB4XT5nSO8of\\nCv75UIdxVYu0UxdBh89DP04eGOxqTTaycU42vYHAcpPR2JK13y8_19lA9zdlz82zI-\\nV39aF4d0PJFypY-PXhUQ4wSc0X1GdpJ5UfEmcJqBM6WF6ikMH4rGY2roEfqsGn4Fh1CmMW27P9N-\\nLL_BX581kxbwkilYabqTDkeynPbEKYcnMXe2Stbgy52s-DhcA.\",\"xsmall2x\":\"https:\\\\/\\\\/usfs-\\npublic.app.box.com\\\\/index.php?rm=pic_storage_auth&pic=euks!pac3kv01!OtTDd-\\nq2wBBCOXGDgKJBFr_czF6pJQAga493dnnUxperdNquN0Cz8fNasr5nvfAq2AhNm0qhMhCfVvqVEAZsSp\\nfg_5xdYWlBT5dAKkk7T_d3nbXwTXXUqacV7gE-\\ndhH3ZlzoYM14S4a4ZdgzLvr41hgnSUo0TfbpyzIWWSZfNQBpqUjSNwOwphML9aZbGmDUhBajuer2Z5zB\\n02vJVZauNqvrj22tZSCYkYGm9IHE7xtzT28_Px0BMQ2JLhl8P-\\nmswrcW9H1ZUca0oMfx3w..\",\"xsmall3x\":\"https:\\\\/\\\\/usfs-public.app.box.com\\\\/\\nindex.php?rm=pic_storage_auth&pic=euks!pac3kv01!\\nFGHdf4XJerv3OaybvNgVPGetfZV37teGBYQ61ru1Jqe7PKF-\\n0dpn5K7WaB3KsGiOsI4DQpGuyXQUIRz0-\\n817Qryp6mBr_ZumWoMR_cJ_hHVd1p_0ta1ewQqCsSXnfBOnnSvisTtSLwhN6aCUxJWIjjZSJjlsfSYXN\\n9y7vws1pv36mewt9YJA_cHjGHfmOfYhZkke9WOr9BsPiHrS5FM7FkbHrBe--uyGVrYyaUF0XFRh2t-\\nsTCHfEh0glw50yaqyXQHGjYY_4a9g6gp2eg..\"},\"logo2URLs\":\\n{\"small\":null,\"large\":null,\"preview\":null,\"xsmall\":null,\"xsmall2x\":null,\"xsmall3\\nx\":null}},\"footer\":{\"footerText\":\"U.S. Forest\\nService\",\"footerLinkText\":\"Legal\",\"footerLinkUrl\":\"https:\\\\/\\\\/usfs.box.com\\\\/\\nlegal\"},\"support\":{\"phone\":\"\",\"email\":\"\",\"url\":\"https:\\\\/\\\\/community.box.com\\\\/\\nt5\\\\/help\\\\/ct-p\\\\/support\"},\"account\":\\n{\"canEndTrial\":false,\"canUpgrade\":false,\"daysLeftInTrial\":0,\"daysSinceTrialStart\\n\":-\\n1,\"hasPaymentSystem\":false,\"isInUpgradeTrial\":false,\"isOnCCFreeTrial\":false,\"isO\\nnTrial\":false,\"isPaymentBlocked\":false,\"unusedManagedUserCount\":null,\"unusedMana\\ngedUserPlusOverageAllowanceCount\":null},\"features\":\\n{\"disableLinkToBoxAccessibilitySite\":false,\"adminConsole\":false,\"appGalleryV2\":t\\nrue,\"autoClassification\":false,\"automations\":\"\",\"boxAIExtractMetadata\":false,\"bo\\nxAiHubs\":false,\"boxAIInPreview\":false,\"boxAIForMultidoc\":false,\"boxAIForPublicAp\\ni\":false,\"boxAIStudio\":false,\"canvas\":true,\"canvasLandingPage\":true,\"classificat\\nion\":false,\"classificationV2\":false,\"collections\":false,\"crooze\":false,\"croozeMa\\nnagement\":false,\"developerConsole\":false,\"docgenEnabled\":false,\"feed\":false,\"fee\\ndAccessStats\":false,\"fileRequestEnabled\":false,\"fileRequestAllowEditorsEnabled\":\\nfalse,\"fileRequestBrandingUserEnablementEnabled\":false,\"folderOwnerInsights\":fal\\nse,\"formsEnabled\":false,\"formsAllowEditorsEnabled\":false,\"formsBrandingUserEnabl', path=None, url=None, mimetype=None), image_resource=None, audio_resource=None, video_resource=None, text_template='{metadata_str}\\n\\n{content}'),\n",
              " Document(id_='cb7fa285-b067-44cc-b88d-2d0a200d75f7', embedding=None, metadata={}, excluded_embed_metadata_keys=[], excluded_llm_metadata_keys=[], relationships={}, metadata_template='{key}: {value}', metadata_separator='\\n', text_resource=MediaResource(embeddings=None, data=None, text='ementEnabled\":false,\"fullVersionShield\":false,\"googleDSSFeatureFlip\":false,\"hubs\\n\":true,\"hubsProvisioned\":false,\"hubsCreation\":false,\"hubsGallery\":false,\"metadat\\na\":false,\"notes\":true,\"openWithProgram\":false,\"ownedByMe\":false,\"previewAnnotati\\nons\":false,\"reactFilesPageFF\":false,\"recents\":true,\"relayAdvancedProduct\":false,\\n\"relayAdvancedAllowEditorsAsBuilders\":false,\"relayEnterpriseLevel\":\"\",\"relayUser\\nLevel\":\"\",\"relayAllowEditorsAsBuilders\":false,\"relayUserCanPublishTemplates\":fal\\nse,\"sfc\":false,\"sfcShare\":false,\"sharedWithMe\":false,\"shield\":false,\"showProfile\\nAndAccount\":true,\"sign\":false,\"signEnterprise\":false,\"sync\":false,\"tags\":false,\"\\nthreadedReplies\":false,\"trash\":true,\"updatesPage\":true,\"videoAndCustomWatermarki\\nng\":false},\"relayFeatures\":\\n{\"newUserEnablement\":false,\"fileRequestMoveCrossShard\":false,\"tariffMigration\":f\\nalse,\"manualStartPublicApiV1\":false,\"relayWebWorkflowTemplatesEndpoints\":false,\"\\nfolderMetadataOutcome\":false,\"classificationLabel\":false,\"renameFileOutcome\":fal\\nse,\"dynamicNaming\":true,\"dynamicNamingEnhancements\":true,\"aiActionPromptOutcome\"\\n:false},\"experiments\":\\n{\"hcaptchaVisible\":true,\"mfaTOTP\":true,\"shieldRestrictionBoxSignEnabled\":true,\"e\\nua_experiment_preview_react_controls\":true,\"eua_experiment_split_io\":true,\"eua_e\\nxperiment_split_proxy\":true,\"eua_experiment_responsive_web\":true,\"eua_experiment\\n_list_view_enhancements\":true,\"eua_experiment_grid_view_enhancements\":true,\"eua_\\nexperiment_preview_esl_post_ga\":true},\"preview\":{\"apiHost\":\"https:\\\\/\\\\/\\napi.box.com\\\\/\",\"appHost\":\"https:\\\\/\\\\/usfs-\\npublic.app.box.com\\\\/\",\"staticHost\":\"https:\\\\/\\\\/\\ncdn01.boxcdn.net\\\\/\",\"staticPath\":\"platform\\\\/\\npreview\",\"version\":\"3.0.0\",\"tokenTimeout\":3600,\"preloadEnabled\":true,\"annotation\\nsEnabled\":false},\"userPreferences\":{\"columnWidths\":\\n[],\"sortColumn\":\"date\",\"sortDirection\":\"desc\",\"view\":\"list\",\"viewSize\":1}}};\\nBox.postStreamURLs =\\n[\"\\\\/app-api\\\\/enduserapp\\\\/shared-item\",\"\\\\/app-api\\\\/enduserapp\\\\/item\\\\/\\nf_927786131207\"];   Box.webpackPublicPath = \\'https://cdn01.boxcdn.net/enduser/\\';\\nBox.webpackRemotes =\\n{\"box_canvas\":\"https:\\\\/\\\\/cdn01.boxcdn.net\\\\/canvas-assets\\\\/box_canvas_remote.0.34\\n0.0.js\",\"box_forms_client\":\"https:\\\\/\\\\/cdn01.boxcdn.net\\\\/file-request-forms\\\\/\\nbox_forms_client_remote.2.376.0.js\",\"box_hubs_client\":\"https:\\\\/\\\\/\\ncdn01.boxcdn.net\\\\/hubs-assets\\\\/\\nbox_hubs_client_remote.2.28.0.js\",\"box_money_client\":\"https:\\\\/\\\\/\\ncdn01.boxcdn.net\\\\/money-assets\\\\/\\nbox_money_client_remote.0.3.164.js\",\"box_sign_client\":\"https:\\\\/\\\\/\\ncdn01.boxcdn.net\\\\/sign-assets\\\\/\\nbox_sign_client_remote.2.64.0.js\",\"box_trigger_client\":\"https:\\\\/\\\\/\\ncdn01.boxcdn.net\\\\/relay-trigger-assets\\\\/\\nbox_trigger_client_remote.16.44.0.js\",\"box_docgen_client\":\"https:\\\\/\\\\/\\ncdn01.boxcdn.net\\\\/docgen-client-assets\\\\/\\nbox_docgen_client_remote.0.73.0.js\",\"box_insights_client\":\"https:\\\\/\\\\/\\ncdn01.boxcdn.net\\\\/insights-assets\\\\/box_insights_client_remote.1.164.3.js\"};\\nBox.webpackRemotesManifest = {\"box_canvas\":\\n{\"hostname\":\"cdn01.boxcdn.net\",\"remotePath\":\"canvas-\\nassets\",\"remoteVersion\":\"0.340.0\",\"remoteVersionSuffix\":\".0.340.0\",\"remoteEntryF\\nileName\":\"box_canvas_remote\"},\"box_forms_client\":\\n{\"hostname\":\"cdn01.boxcdn.net\",\"remotePath\":\"file-request-\\nforms\",\"remoteVersion\":\"2.376.0\",\"remoteVersionSuffix\":\".2.376.0\",\"remoteEntryFi\\nleName\":\"box_forms_client_remote\"},\"box_hubs_client\":\\n{\"hostname\":\"cdn01.boxcdn.net\",\"remotePath\":\"hubs-\\nassets\",\"remoteVersion\":\"2.28.0\",\"remoteVersionSuffix\":\".2.28.0\",\"remoteEntryFil\\neName\":\"box_hubs_client_remote\"},\"box_money_client\":\\n{\"hostname\":\"cdn01.boxcdn.net\",\"remotePath\":\"money-\\nassets\",\"remoteVersion\":\"0.3.164\",\"remoteVersionSuffix\":\".0.3.164\",\"remoteEntryF\\nileName\":\"box_money_client_remote\"},\"box_sign_client\":\\n{\"hostname\":\"cdn01.boxcdn.net\",\"remotePath\":\"sign-\\nassets\",\"remoteVersion\":\"2.64.0\",\"remoteVersionSuffix\":\".2.64.0\",\"remoteEntryFil\\neName\":\"box_sign_client_remote\"},\"box_trigger_client\":\\n{\"hostname\":\"cdn01.boxcdn.net\",\"remotePath\":\"relay-trigger-\\nassets\",\"remoteVersion\":\"16.44.0\",\"remoteVersionSuffix\":\".16.44.0\",\"remoteEntryF\\nileName\":\"box_trigger_client_remote\"},\"box_docgen_client\":\\n{\"hostname\":\"cdn01.boxcdn.net\",\"remotePath\":\"docgen-client-', path=None, url=None, mimetype=None), image_resource=None, audio_resource=None, video_resource=None, text_template='{metadata_str}\\n\\n{content}'),\n",
              " Document(id_='3a715daf-a0cf-48f4-9def-0b355ff88ff0', embedding=None, metadata={}, excluded_embed_metadata_keys=[], excluded_llm_metadata_keys=[], relationships={}, metadata_template='{key}: {value}', metadata_separator='\\n', text_resource=MediaResource(embeddings=None, data=None, text='# 2020 State Forest Action Plan Regional Summary Northeast Midwest\\n\\nFile Name: 2020 State Forest Action Plan Regional Summary Northeast Midwest 20220303.pdf\\n\\nItem Size: 3,469,245 bytes\\n\\nOwner Enterprise ID: 261354\\n\\nCan Download: Yes\\n\\nClassification:', path=None, url=None, mimetype=None), image_resource=None, audio_resource=None, video_resource=None, text_template='{metadata_str}\\n\\n{content}'),\n",
              " Document(id_='4feb5b34-e99e-42cc-88bd-aa1b01387709', embedding=None, metadata={}, excluded_embed_metadata_keys=[], excluded_llm_metadata_keys=[], relationships={}, metadata_template='{key}: {value}', metadata_separator='\\n', text_resource=MediaResource(embeddings=None, data=None, text='axr5FqWwrlmiwI4FiuNfx83zBNw48-oGisD94uE9-\\ncfEOkyAQoUFYRcM4hJOCFA8LhfDRfWGisF3qAn3IXEVelHnMpQqIJ8sQ7jy2D3lq5cfN2aeTHD_CiHeC\\nK4paWvx8WaLk1fwwc58h_6eXKDHab90KG0txbTeImGtHyxa7dbkRLRX7UyN_10hptbPRkRUUbVBAmmgQ\\nJy8EoFOFx0tf_TFTUrw7VKcOeSN0XlxqRHDZ-\\nkEQwbzm0n_ZMFkpJl4tFCi8a01JTtT3XRO\",\"xsmall\":\"https:\\\\/\\\\/usfs-\\npublic.app.box.com\\\\/index.php?rm=pic_storage_auth&pic=euks!pac3kv01!\\nLLhiCXkvukoh8eryFCdQjUoWaUyXnvDIiajkRELm1XVjYM1AlgkuOn5bkekdZGCbaiwJmB4XT5nSO8of\\nCv75UIdxVYu0UxdBh89DP04eGOxqTTaycU42vYHAcpPR2JK13y8_19lA9zdlz82zI-\\nV39aF4d0PJFypY-PXhUQ4wSc0X1GdpJ5UfEmcJqBM6WF6ikMH4rGY2roEfqsGn4Fh1CmMW27P9N-\\nLL_BX581kxbwkilYabqTDkeynPbEKYcnMXe2Stbgy52s-DhcA.\",\"xsmall2x\":\"https:\\\\/\\\\/usfs-\\npublic.app.box.com\\\\/index.php?rm=pic_storage_auth&pic=euks!pac3kv01!OtTDd-\\nq2wBBCOXGDgKJBFr_czF6pJQAga493dnnUxperdNquN0Cz8fNasr5nvfAq2AhNm0qhMhCfVvqVEAZsSp\\nfg_5xdYWlBT5dAKkk7T_d3nbXwTXXUqacV7gE-\\ndhH3ZlzoYM14S4a4ZdgzLvr41hgnSUo0TfbpyzIWWSZfNQBpqUjSNwOwphML9aZbGmDUhBajuer2Z5zB\\n02vJVZauNqvrj22tZSCYkYGm9IHE7xtzT28_Px0BMQ2JLhl8P-\\nmswrcW9H1ZUca0oMfx3w..\",\"xsmall3x\":\"https:\\\\/\\\\/usfs-public.app.box.com\\\\/\\nindex.php?rm=pic_storage_auth&pic=euks!pac3kv01!\\nFGHdf4XJerv3OaybvNgVPGetfZV37teGBYQ61ru1Jqe7PKF-\\n0dpn5K7WaB3KsGiOsI4DQpGuyXQUIRz0-\\n817Qryp6mBr_ZumWoMR_cJ_hHVd1p_0ta1ewQqCsSXnfBOnnSvisTtSLwhN6aCUxJWIjjZSJjlsfSYXN\\n9y7vws1pv36mewt9YJA_cHjGHfmOfYhZkke9WOr9BsPiHrS5FM7FkbHrBe--uyGVrYyaUF0XFRh2t-\\nsTCHfEh0glw50yaqyXQHGjYY_4a9g6gp2eg..\"},\"logo2URLs\":\\n{\"small\":null,\"large\":null,\"preview\":null,\"xsmall\":null,\"xsmall2x\":null,\"xsmall3\\nx\":null}}}};</script></body></html>', path=None, url=None, mimetype=None), image_resource=None, audio_resource=None, video_resource=None, text_template='{metadata_str}\\n\\n{content}')]"
            ]
          },
          "metadata": {},
          "execution_count": 29
        }
      ]
    },
    {
      "cell_type": "code",
      "source": [
        "print(document[0].text[:10000])"
      ],
      "metadata": {
        "colab": {
          "base_uri": "https://localhost:8080/"
        },
        "id": "5HZSRMmSzzE_",
        "outputId": "e4925a98-74f4-4759-9cd4-78a66760e68a"
      },
      "execution_count": 30,
      "outputs": [
        {
          "output_type": "stream",
          "name": "stdout",
          "text": [
            "# 2020 State Forest Action Plan Regional Summary Northeast Midwest\n",
            "\n",
            "# Table of Contents\n",
            "\n",
            "- Introduction\n",
            "- Regional Overview\n",
            "- Forest Resources\n",
            "- Management Strategies\n",
            "- Conclusion\n",
            "\n",
            "# 1. Introduction\n",
            "\n",
            "The 2020 State Forest Action Plan provides a comprehensive overview of the forest resources in the Northeast and Midwest regions of the United States. This document outlines the current state of forests, challenges faced, and strategies for sustainable management.\n",
            "\n",
            "# 2. Regional Overview\n",
            "\n",
            "The Northeast and Midwest regions are characterized by diverse forest ecosystems, which play a crucial role in environmental health and economic stability.\n",
            "\n",
            "# 3. Forest Resources\n",
            "\n",
            "|Resource Type|Area (Acres)|Percentage of Total Forest|\n",
            "|---|---|---|\n",
            "|Deciduous Forest|15,000,000|45%|\n",
            "|Coniferous Forest|10,000,000|30%|\n",
            "|Mixed Forest|5,000,000|15%|\n",
            "|Other|2,000,000|10%|\n",
            "\n",
            "# 4. Management Strategies\n",
            "\n",
            "Effective management strategies are essential for maintaining the health of forest ecosystems. These include:\n",
            "\n",
            "- Reforestation efforts\n",
            "- Invasive species control\n",
            "- Community engagement and education\n",
            "\n",
            "# 5. Conclusion\n",
            "\n",
            "The sustainable management of forest resources is vital for the ecological and economic well-being of the Northeast and Midwest regions. Continued efforts and collaboration among stakeholders will ensure the preservation of these valuable resources for future generations.\n"
          ]
        }
      ]
    },
    {
      "cell_type": "code",
      "source": [
        "file_name = \"forestplans_info.md\"\n",
        "with open(file_name, 'w') as file:\n",
        "  for doc in document:\n",
        "    file.write(doc.text + '\\n')"
      ],
      "metadata": {
        "id": "KeaGJ-781BJE"
      },
      "execution_count": 31,
      "outputs": []
    },
    {
      "cell_type": "code",
      "source": [
        "documents_with_instruction = LlamaParse(\n",
        "    result_type=\"markdown\",\n",
        "    parsing_instruction=\"\"\"\n",
        "    This is the 2020 State Forest Action Plan. make a summary\n",
        "    \"\"\"\n",
        "    ).load_data(\"/content/forestplans.pdf\")"
      ],
      "metadata": {
        "colab": {
          "base_uri": "https://localhost:8080/"
        },
        "id": "ud2-XzHP1ch2",
        "outputId": "b0fc912b-97ec-4318-bd2f-1da94e873511"
      },
      "execution_count": 32,
      "outputs": [
        {
          "output_type": "stream",
          "name": "stdout",
          "text": [
            "WARNING: parsing_instruction is deprecated. Use system_prompt, system_prompt_append or user_prompt instead.\n",
            "Error while parsing the file '/content/forestplans.pdf': Server disconnected without sending a response.\n"
          ]
        }
      ]
    },
    {
      "cell_type": "code",
      "source": [
        "file_name = \"forestplans_info.md\"\n",
        "with open(file_name, 'w') as file:\n",
        "    for doc in document:\n",
        "        file.write(doc.text + '\\n')"
      ],
      "metadata": {
        "id": "RrLwiRVs1Io6"
      },
      "execution_count": 33,
      "outputs": []
    },
    {
      "cell_type": "code",
      "source": [],
      "metadata": {
        "id": "0ZatB1zb3mh6"
      },
      "execution_count": null,
      "outputs": []
    }
  ]
}